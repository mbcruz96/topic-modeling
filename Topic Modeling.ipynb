{
 "cells": [
  {
   "cell_type": "code",
   "execution_count": 1,
   "id": "926c083a",
   "metadata": {},
   "outputs": [],
   "source": [
    "# creating a dataframe with the training CSV data\n",
    "import pandas as pd\n",
    "df = pd.read_csv('drugsComTrain_raw.csv')"
   ]
  },
  {
   "cell_type": "code",
   "execution_count": 2,
   "id": "59b6fea5",
   "metadata": {},
   "outputs": [
    {
     "name": "stderr",
     "output_type": "stream",
     "text": [
      "[nltk_data] Downloading package punkt to\n",
      "[nltk_data]     C:\\Users\\Michael\\AppData\\Roaming\\nltk_data...\n",
      "[nltk_data]   Package punkt is already up-to-date!\n",
      "[nltk_data] Downloading package stopwords to\n",
      "[nltk_data]     C:\\Users\\Michael\\AppData\\Roaming\\nltk_data...\n",
      "[nltk_data]   Package stopwords is already up-to-date!\n",
      "[nltk_data] Downloading package wordnet to\n",
      "[nltk_data]     C:\\Users\\Michael\\AppData\\Roaming\\nltk_data...\n",
      "[nltk_data]   Package wordnet is already up-to-date!\n",
      "[nltk_data] Downloading package omw-1.4 to\n",
      "[nltk_data]     C:\\Users\\Michael\\AppData\\Roaming\\nltk_data...\n",
      "[nltk_data]   Package omw-1.4 is already up-to-date!\n"
     ]
    }
   ],
   "source": [
    "# preprocessing the text in the dataframe and creating the model's vocabulary\n",
    "import nltk\n",
    "nltk.download(\"punkt\")\n",
    "nltk.download(\"stopwords\")\n",
    "nltk.download(\"wordnet\")\n",
    "nltk.download('omw-1.4')\n",
    "from nltk.tokenize import word_tokenize\n",
    "from nltk.corpus import stopwords\n",
    "from nltk.stem import WordNetLemmatizer\n",
    "import re\n",
    "\n",
    "stop_words = set(stopwords.words(\"english\"))\n",
    "vocabulary = [] # holds the unique words from all documents \n",
    "documents = [] # processed documents\n",
    "reg = r\"[^\\s\\w]\"\n",
    "lemmer = WordNetLemmatizer()\n",
    "\n",
    "# cleaning the data and creating vocabulary\n",
    "for row in range(df.shape[0]):\n",
    "    document = []\n",
    "    for column in range(df.shape[1]):\n",
    "        data = df.iat[row, column]\n",
    "        if not isinstance(data, str):\n",
    "            continue\n",
    "        data = re.sub(reg, \"\", data, 0, re.MULTILINE)\n",
    "        data = word_tokenize(data)\n",
    "        for word in data:\n",
    "            if word.casefold not in stop_words and word != \"\":\n",
    "                word = word.lower()\n",
    "                word = ''.join(x for x in word if not x.isdigit())\n",
    "                word = lemmer.lemmatize(word)\n",
    "                document.append(word)\n",
    "    documents.append(document)"
   ]
  },
  {
   "cell_type": "code",
   "execution_count": 3,
   "id": "3ed88031",
   "metadata": {},
   "outputs": [],
   "source": [
    "# creating bag of words  and tf-idf representations using word document matrix \n",
    "import gensim\n",
    "from gensim import corpora \n",
    "from gensim.models import TfidfModel \n",
    "\n",
    "vocabulary = corpora.Dictionary(documents)\n",
    "bow_corpus = [vocabulary.doc2bow(document) for document in documents]\n",
    "tfidf_model = TfidfModel(bow_corpus, smartirs='ntc')\n",
    "tfidf_corpus = tfidf_model[bow_corpus]"
   ]
  },
  {
   "cell_type": "code",
   "execution_count": 4,
   "id": "4dd002d0",
   "metadata": {
    "scrolled": false
   },
   "outputs": [
    {
     "data": {
      "image/png": "[encoded data removed]",
      "text/plain": [
       "<Figure size 640x480 with 1 Axes>"
      ]
     },
     "metadata": {},
     "output_type": "display_data"
    }
   ],
   "source": [
    "# graphing the coherence values of LSA models to find the optimal number of topics \n",
    "from gensim.models import LsiModel\n",
    "from gensim.models.coherencemodel import CoherenceModel\n",
    "import matplotlib.pyplot as plt\n",
    "\n",
    "lsa_models = []\n",
    "lsa_coherence_vals = []\n",
    "topics = [50, 100, 150, 200, 250, 300, 350, 400, 450, 500]\n",
    "for num in topics:\n",
    "    lsa_model = LsiModel(tfidf_corpus, num_topics=num, id2word=vocabulary)\n",
    "    lsa_models.append(lsa_model)\n",
    "    coherence_model = CoherenceModel(model=lsa_model, texts=documents, dictionary=vocabulary, coherence='u_mass')\n",
    "    lsa_coherence_vals.append(coherence_model.get_coherence())\n",
    "x = topics\n",
    "plt.plot(x, lsa_coherence_vals)\n",
    "plt.xlabel('Number of topics')\n",
    "plt.ylabel=('Coherence score')\n",
    "plt.legend(('coherencevals'), loc='best')\n",
    "plt.show()"
   ]
  },
  {
   "cell_type": "code",
   "execution_count": 7,
   "id": "484d24d6",
   "metadata": {},
   "outputs": [],
   "source": [
    "# creating the LDA models for the BOW and Tf-Idf representations\n",
    "from gensim.models import LdaModel\n",
    "\n",
    "lda_bow_model = LdaModel(corpus=bow_corpus, \n",
    "                     id2word=vocabulary, \n",
    "                     num_topics=300, \n",
    "                     chunksize=2000,\n",
    "                     passes=10, \n",
    "                     alpha='auto',\n",
    "                     eta='auto',\n",
    "                     random_state=100,\n",
    "                     eval_every=1)\n",
    "lda_tfidf_model = LdaModel(corpus=tfidf_corpus, \n",
    "                         id2word=vocabulary, \n",
    "                         num_topics=300, \n",
    "                         chunksize=2000,\n",
    "                         passes=10, \n",
    "                         alpha='auto',\n",
    "                         eta='auto',\n",
    "                         random_state=100,\n",
    "                         eval_every=1)"
   ]
  },
  {
   "cell_type": "code",
   "execution_count": 9,
   "id": "13ccb3b2",
   "metadata": {},
   "outputs": [
    {
     "name": "stdout",
     "output_type": "stream",
     "text": [
      "LSA bow model:  [(0, '0.569*\"i\" + 0.314*\"and\" + 0.300*\"the\" + 0.251*\"a\" + 0.237*\"to\" + 0.231*\"it\" + 0.213*\"my\" + 0.207*\"\" + 0.137*\"wa\" + 0.136*\"for\" + 0.124*\"of\" + 0.123*\"have\" + 0.098*\"on\" + 0.090*\"in\" + 0.090*\"this\" + 0.087*\"but\" + 0.085*\"had\" + 0.080*\"me\" + 0.077*\"that\" + 0.076*\"is\"'), (1, '-0.736*\"i\" + 0.443*\"the\" + 0.209*\"\" + 0.191*\"a\" + 0.179*\"to\" + 0.147*\"of\" + 0.146*\"and\" + 0.118*\"it\" + 0.116*\"for\" + -0.096*\"have\" + 0.093*\"is\" + 0.082*\"in\" + -0.065*\"am\" + 0.059*\"with\" + 0.059*\"you\" + 0.054*\"pain\" + 0.054*\"day\" + 0.048*\"ive\" + 0.043*\"me\" + 0.036*\"on\"'), (2, '0.806*\"\" + -0.439*\"it\" + -0.261*\"the\" + 0.102*\"day\" + 0.080*\"mg\" + -0.063*\"that\" + 0.062*\"year\" + -0.057*\"but\" + 0.055*\"week\" + -0.054*\"me\" + 0.053*\"am\" + 0.053*\"have\" + 0.048*\"month\" + -0.045*\"you\" + -0.043*\"is\" + 0.043*\"lb\" + 0.040*\"in\" + 0.039*\"on\" + -0.038*\"wa\" + 0.038*\"at\"'), (3, '-0.702*\"the\" + 0.499*\"it\" + 0.218*\"and\" + 0.215*\"a\" + -0.201*\"i\" + 0.155*\"my\" + 0.128*\"for\" + -0.096*\"wa\" + -0.084*\"of\" + 0.079*\"me\" + 0.070*\"been\" + 0.054*\"ive\" + 0.054*\"but\" + 0.051*\"on\" + 0.049*\"im\" + 0.046*\"\" + 0.046*\"ha\" + 0.043*\"year\" + -0.043*\"in\" + 0.042*\"control\"'), (4, '-0.655*\"and\" + 0.441*\"it\" + -0.438*\"my\" + 0.304*\"\" + 0.115*\"a\" + 0.109*\"i\" + 0.092*\"for\" + 0.077*\"but\" + 0.069*\"the\" + -0.058*\"wa\" + 0.050*\"you\" + 0.048*\"take\" + 0.048*\"day\" + -0.043*\"on\" + 0.039*\"amp\" + 0.038*\"if\" + -0.037*\"anxiety\" + -0.036*\"acne\" + -0.033*\"life\" + 0.032*\"not\"'), (5, '-0.711*\"a\" + 0.381*\"it\" + 0.252*\"my\" + 0.248*\"\" + -0.208*\"to\" + 0.151*\"the\" + 0.141*\"wa\" + -0.122*\"have\" + 0.106*\"period\" + -0.105*\"of\" + 0.102*\"birth\" + 0.100*\"control\" + 0.084*\"month\" + -0.064*\"mg\" + 0.060*\"and\" + 0.054*\"had\" + 0.051*\"on\" + -0.050*\"with\" + 0.048*\"acne\" + 0.045*\"pill\"'), (6, '-0.829*\"to\" + 0.291*\"a\" + 0.248*\"and\" + -0.227*\"my\" + 0.147*\"the\" + -0.093*\"me\" + 0.086*\"for\" + 0.067*\"birth\" + 0.067*\"had\" + 0.067*\"period\" + 0.062*\"control\" + 0.056*\"month\" + 0.056*\"have\" + 0.052*\"been\" + -0.048*\"be\" + 0.046*\"day\" + -0.041*\"wa\" + 0.040*\"ive\" + -0.040*\"mg\" + -0.040*\"take\"'), (7, '-0.651*\"my\" + 0.528*\"and\" + -0.313*\"a\" + 0.168*\"to\" + -0.130*\"period\" + -0.128*\"wa\" + 0.122*\"it\" + -0.107*\"control\" + -0.105*\"birth\" + -0.092*\"month\" + -0.082*\"of\" + 0.076*\"have\" + -0.067*\"had\" + -0.063*\"on\" + -0.063*\"acne\" + -0.058*\"pill\" + 0.058*\"mg\" + 0.056*\"i\" + 0.055*\"you\" + 0.054*\"take\"'), (8, '0.559*\"wa\" + -0.510*\"have\" + -0.236*\"is\" + 0.225*\"a\" + -0.209*\"been\" + -0.194*\"this\" + -0.155*\"for\" + 0.117*\"it\" + -0.113*\"control\" + -0.108*\"birth\" + -0.098*\"ha\" + 0.097*\"and\" + -0.094*\"the\" + 0.088*\"day\" + -0.086*\"my\" + -0.085*\"on\" + -0.079*\"ive\" + -0.078*\"not\" + -0.075*\"now\" + 0.074*\"after\"'), (9, '-0.315*\"birth\" + -0.313*\"control\" + -0.310*\"to\" + 0.273*\"my\" + -0.260*\"had\" + -0.246*\"period\" + -0.195*\"month\" + 0.182*\"of\" + 0.180*\"me\" + 0.165*\"in\" + -0.161*\"wa\" + -0.159*\"pill\" + 0.156*\"mg\" + 0.152*\"pain\" + 0.140*\"it\" + -0.116*\"a\" + 0.110*\"is\" + 0.097*\"with\" + -0.096*\"and\" + 0.092*\"anxiety\"')]\n",
      "LSA tf-idf model:  [(0, '0.117*\"wa\" + 0.113*\"birth\" + 0.113*\"\" + 0.112*\"control\" + 0.110*\"period\" + 0.108*\"have\" + 0.104*\"it\" + 0.103*\"month\" + 0.103*\"i\" + 0.102*\"had\" + 0.102*\"day\" + 0.100*\"this\" + 0.099*\"pill\" + 0.097*\"on\" + 0.096*\"that\" + 0.095*\"my\" + 0.095*\"so\" + 0.094*\"the\" + 0.094*\"me\" + 0.094*\"pain\"'), (1, '-0.334*\"birth\" + -0.307*\"control\" + -0.296*\"period\" + 0.186*\"anxiety\" + 0.178*\"mg\" + -0.157*\"pill\" + -0.151*\"bleeding\" + 0.144*\"pain\" + -0.136*\"ethinyl\" + -0.135*\"estradiol\" + -0.130*\"acne\" + -0.114*\"month\" + 0.105*\"depression\" + -0.102*\"cramp\" + 0.099*\"sleep\" + -0.096*\"spotting\" + 0.096*\"medicine\" + 0.096*\"medication\" + -0.094*\"nexplanon\" + -0.092*\"sex\"'), (2, '0.487*\"pain\" + -0.405*\"anxiety\" + -0.228*\"depression\" + -0.170*\"panic\" + 0.147*\"infection\" + -0.141*\"disorde\" + -0.120*\"attack\" + -0.114*\"lexapro\" + -0.112*\"weight\" + -0.099*\"zoloft\" + -0.097*\"mg\" + 0.094*\"hour\" + -0.094*\"bipolar\" + 0.086*\"chronic\" + 0.083*\"migraine\" + -0.080*\"xanax\" + 0.075*\"yeast\" + 0.074*\"relief\" + -0.071*\"mood\" + -0.067*\"disorder\"'), (3, '-0.296*\"anxiety\" + 0.294*\"lb\" + 0.283*\"weight\" + -0.271*\"pain\" + 0.220*\"loss\" + 0.200*\"lost\" + 0.176*\"phentermine\" + 0.155*\"pound\" + 0.144*\"obesity\" + -0.139*\"panic\" + 0.124*\"eat\" + -0.122*\"period\" + 0.118*\"contrave\" + -0.115*\"birth\" + -0.106*\"control\" + -0.106*\"attack\" + 0.105*\"\" + -0.100*\"depression\" + 0.091*\"belviq\" + 0.087*\"lose\"'), (4, '-0.542*\"acne\" + -0.287*\"skin\" + 0.268*\"pain\" + -0.180*\"face\" + 0.159*\"weight\" + -0.158*\"infection\" + 0.134*\"lb\" + -0.113*\"clear\" + -0.110*\"epiduo\" + 0.107*\"bleeding\" + -0.103*\"using\" + -0.099*\"yeast\" + -0.097*\"product\" + 0.096*\"loss\" + -0.096*\"accutane\" + 0.093*\"period\" + 0.089*\"lost\" + -0.087*\"cream\" + -0.084*\"pimple\" + -0.084*\"cleared\"'), (5, '-0.372*\"pain\" + -0.280*\"acne\" + 0.172*\"b\" + 0.164*\"plan\" + 0.148*\"infection\" + 0.144*\"took\" + 0.132*\"contraception\" + 0.131*\"emergency\" + 0.127*\"hour\" + -0.121*\"skin\" + 0.117*\"day\" + 0.117*\"period\" + -0.112*\"migraine\" + -0.111*\"weight\" + 0.100*\"bleeding\" + -0.099*\"ha\" + -0.097*\"been\" + 0.097*\"got\" + 0.096*\"wa\" + -0.093*\"estradiol\"'), (6, '0.539*\"pressure\" + 0.523*\"blood\" + 0.311*\"high\" + -0.171*\"pain\" + 0.151*\"migraine\" + -0.142*\"you\" + -0.104*\"weight\" + 0.091*\"lisinopril\" + -0.087*\"lb\" + 0.075*\"side\" + 0.074*\"bleeding\" + 0.073*\"effect\" + 0.065*\"amlodipine\" + 0.061*\"bp\" + -0.061*\"phentermine\" + 0.058*\"heart\" + 0.058*\"mg\" + 0.057*\"headache\" + -0.056*\"dont\" + 0.055*\"hydrochlorothiazide\"'), (7, '-0.405*\"migraine\" + -0.286*\"infection\" + 0.218*\"acne\" + 0.161*\"bleeding\" + -0.159*\"yeast\" + 0.155*\"pain\" + -0.146*\"pill\" + -0.141*\"estradiol\" + -0.140*\"ethinyl\" + -0.137*\"birth\" + -0.131*\"control\" + -0.127*\"headache\" + 0.107*\"he\" + 0.101*\"week\" + -0.100*\"vaginal\" + -0.098*\"sleep\" + 0.098*\"mirena\" + 0.095*\"shot\" + 0.094*\"skin\" + -0.086*\"prevention\"'), (8, '0.583*\"migraine\" + -0.394*\"infection\" + -0.235*\"yeast\" + -0.151*\"vaginal\" + -0.140*\"pain\" + 0.121*\"prevention\" + -0.107*\"tract\" + -0.106*\"anxiety\" + 0.102*\"b\" + -0.100*\"urinary\" + 0.098*\"plan\" + -0.098*\"burning\" + -0.088*\"itching\" + 0.088*\"he\" + 0.087*\"acne\" + 0.084*\"you\" + -0.083*\"blood\" + -0.082*\"pressure\" + -0.080*\"miconazole\" + -0.076*\"monistat\"'), (9, '0.460*\"migraine\" + 0.210*\"infection\" + -0.185*\"sleep\" + 0.180*\"bleeding\" + -0.177*\"pill\" + -0.169*\"you\" + -0.169*\"pressure\" + -0.164*\"insomnia\" + -0.150*\"blood\" + 0.121*\"yeast\" + -0.116*\"b\" + 0.116*\"shot\" + -0.110*\"plan\" + -0.109*\"night\" + -0.107*\"high\" + 0.106*\"prevention\" + -0.103*\"ethinyl\" + -0.102*\"estradiol\" + 0.097*\"mirena\" + 0.088*\"headache\"')]\n",
      "LDA bow model:  [(161, '0.000*\"smacked\" + 0.000*\"oxcontin\" + 0.000*\"thingrecently\" + 0.000*\"emotionalsensitive\" + 0.000*\"metform\" + 0.000*\"relievedtrust\" + 0.000*\"herpicin\" + 0.000*\"directs\" + 0.000*\"preventitive\" + 0.000*\"numberseverything\" + 0.000*\"lifestyleinduced\" + 0.000*\"forresterallergan\" + 0.000*\"forrester\" + 0.000*\"freaken\" + 0.000*\"arrrg\" + 0.000*\"pressuring\" + 0.000*\"showerexercise\" + 0.000*\"idealy\" + 0.000*\"stubbornly\" + 0.000*\"columbus\"'), (189, '0.000*\"smacked\" + 0.000*\"oxcontin\" + 0.000*\"thingrecently\" + 0.000*\"emotionalsensitive\" + 0.000*\"metform\" + 0.000*\"relievedtrust\" + 0.000*\"herpicin\" + 0.000*\"directs\" + 0.000*\"preventitive\" + 0.000*\"numberseverything\" + 0.000*\"lifestyleinduced\" + 0.000*\"forresterallergan\" + 0.000*\"forrester\" + 0.000*\"freaken\" + 0.000*\"arrrg\" + 0.000*\"pressuring\" + 0.000*\"showerexercise\" + 0.000*\"idealy\" + 0.000*\"stubbornly\" + 0.000*\"columbus\"'), (270, '0.000*\"smacked\" + 0.000*\"oxcontin\" + 0.000*\"thingrecently\" + 0.000*\"emotionalsensitive\" + 0.000*\"metform\" + 0.000*\"relievedtrust\" + 0.000*\"herpicin\" + 0.000*\"directs\" + 0.000*\"preventitive\" + 0.000*\"numberseverything\" + 0.000*\"lifestyleinduced\" + 0.000*\"forresterallergan\" + 0.000*\"forrester\" + 0.000*\"freaken\" + 0.000*\"arrrg\" + 0.000*\"pressuring\" + 0.000*\"showerexercise\" + 0.000*\"idealy\" + 0.000*\"stubbornly\" + 0.000*\"columbus\"'), (295, '0.000*\"smacked\" + 0.000*\"oxcontin\" + 0.000*\"thingrecently\" + 0.000*\"emotionalsensitive\" + 0.000*\"metform\" + 0.000*\"relievedtrust\" + 0.000*\"herpicin\" + 0.000*\"directs\" + 0.000*\"preventitive\" + 0.000*\"numberseverything\" + 0.000*\"lifestyleinduced\" + 0.000*\"forresterallergan\" + 0.000*\"forrester\" + 0.000*\"freaken\" + 0.000*\"arrrg\" + 0.000*\"pressuring\" + 0.000*\"showerexercise\" + 0.000*\"idealy\" + 0.000*\"stubbornly\" + 0.000*\"columbus\"'), (113, '0.000*\"smacked\" + 0.000*\"oxcontin\" + 0.000*\"thingrecently\" + 0.000*\"emotionalsensitive\" + 0.000*\"metform\" + 0.000*\"relievedtrust\" + 0.000*\"herpicin\" + 0.000*\"directs\" + 0.000*\"preventitive\" + 0.000*\"numberseverything\" + 0.000*\"lifestyleinduced\" + 0.000*\"forresterallergan\" + 0.000*\"forrester\" + 0.000*\"freaken\" + 0.000*\"arrrg\" + 0.000*\"pressuring\" + 0.000*\"showerexercise\" + 0.000*\"idealy\" + 0.000*\"stubbornly\" + 0.000*\"columbus\"'), (297, '0.229*\"work\" + 0.127*\"well\" + 0.114*\"great\" + 0.091*\"worked\" + 0.084*\"oct\" + 0.083*\"mar\" + 0.073*\"nothing\" + 0.059*\"taken\" + 0.052*\"working\" + 0.032*\"done\" + 0.020*\"wonder\" + 0.006*\"rarely\" + 0.004*\"specialist\" + 0.002*\"effectively\" + 0.002*\"build\" + 0.002*\"toradol\" + 0.002*\"caution\" + 0.002*\"game\" + 0.002*\"changer\" + 0.002*\"suppression\"'), (290, '0.227*\"the\" + 0.205*\"first\" + 0.201*\"only\" + 0.081*\"by\" + 0.059*\"jun\" + 0.048*\"most\" + 0.046*\"next\" + 0.039*\"second\" + 0.036*\"completely\" + 0.018*\"part\" + 0.009*\"procedure\" + 0.005*\"of\" + 0.003*\"nor\" + 0.003*\"time\" + 0.002*\"skeptical\" + 0.002*\"experience\" + 0.002*\"two\" + 0.002*\"conjunction\" + 0.001*\"gross\" + 0.001*\"receive\"'), (201, '0.188*\"wa\" + 0.087*\"had\" + 0.066*\"after\" + 0.041*\"out\" + 0.036*\"would\" + 0.034*\"i\" + 0.029*\"then\" + 0.028*\"took\" + 0.021*\"didnt\" + 0.021*\"never\" + 0.020*\"started\" + 0.019*\"having\" + 0.019*\"were\" + 0.018*\"thing\" + 0.018*\"again\" + 0.017*\"even\" + 0.016*\"almost\" + 0.016*\"nov\" + 0.015*\"getting\" + 0.015*\"jan\"'), (258, '0.163*\"\" + 0.108*\"for\" + 0.054*\"on\" + 0.046*\"been\" + 0.039*\"month\" + 0.037*\"year\" + 0.033*\"no\" + 0.032*\"now\" + 0.028*\"ha\" + 0.028*\"about\" + 0.026*\"ive\" + 0.025*\"it\" + 0.022*\"all\" + 0.022*\"get\" + 0.021*\"or\" + 0.020*\"have\" + 0.019*\"and\" + 0.018*\"had\" + 0.016*\"just\" + 0.014*\"since\"'), (185, '0.143*\"i\" + 0.080*\"and\" + 0.069*\"the\" + 0.065*\"a\" + 0.064*\"to\" + 0.056*\"it\" + 0.055*\"my\" + 0.034*\"of\" + 0.028*\"have\" + 0.027*\"this\" + 0.025*\"in\" + 0.023*\"but\" + 0.022*\"is\" + 0.020*\"that\" + 0.020*\"with\" + 0.019*\"day\" + 0.018*\"me\" + 0.018*\"not\" + 0.015*\"so\" + 0.012*\"am\"')]\n",
      "LDA tf-idf model:  [(142, '0.000*\"smacked\" + 0.000*\"oxcontin\" + 0.000*\"thingrecently\" + 0.000*\"emotionalsensitive\" + 0.000*\"metform\" + 0.000*\"relievedtrust\" + 0.000*\"herpicin\" + 0.000*\"directs\" + 0.000*\"preventitive\" + 0.000*\"numberseverything\" + 0.000*\"lifestyleinduced\" + 0.000*\"forresterallergan\" + 0.000*\"forrester\" + 0.000*\"freaken\" + 0.000*\"arrrg\" + 0.000*\"pressuring\" + 0.000*\"showerexercise\" + 0.000*\"idealy\" + 0.000*\"stubbornly\" + 0.000*\"columbus\"'), (120, '0.000*\"smacked\" + 0.000*\"oxcontin\" + 0.000*\"thingrecently\" + 0.000*\"emotionalsensitive\" + 0.000*\"metform\" + 0.000*\"relievedtrust\" + 0.000*\"herpicin\" + 0.000*\"directs\" + 0.000*\"preventitive\" + 0.000*\"numberseverything\" + 0.000*\"lifestyleinduced\" + 0.000*\"forresterallergan\" + 0.000*\"forrester\" + 0.000*\"freaken\" + 0.000*\"arrrg\" + 0.000*\"pressuring\" + 0.000*\"showerexercise\" + 0.000*\"idealy\" + 0.000*\"stubbornly\" + 0.000*\"columbus\"'), (185, '0.000*\"smacked\" + 0.000*\"oxcontin\" + 0.000*\"thingrecently\" + 0.000*\"emotionalsensitive\" + 0.000*\"metform\" + 0.000*\"relievedtrust\" + 0.000*\"herpicin\" + 0.000*\"directs\" + 0.000*\"preventitive\" + 0.000*\"numberseverything\" + 0.000*\"lifestyleinduced\" + 0.000*\"forresterallergan\" + 0.000*\"forrester\" + 0.000*\"freaken\" + 0.000*\"arrrg\" + 0.000*\"pressuring\" + 0.000*\"showerexercise\" + 0.000*\"idealy\" + 0.000*\"stubbornly\" + 0.000*\"columbus\"'), (43, '0.000*\"smacked\" + 0.000*\"oxcontin\" + 0.000*\"thingrecently\" + 0.000*\"emotionalsensitive\" + 0.000*\"metform\" + 0.000*\"relievedtrust\" + 0.000*\"herpicin\" + 0.000*\"directs\" + 0.000*\"preventitive\" + 0.000*\"numberseverything\" + 0.000*\"lifestyleinduced\" + 0.000*\"forresterallergan\" + 0.000*\"forrester\" + 0.000*\"freaken\" + 0.000*\"arrrg\" + 0.000*\"pressuring\" + 0.000*\"showerexercise\" + 0.000*\"idealy\" + 0.000*\"stubbornly\" + 0.000*\"columbus\"'), (162, '0.000*\"smacked\" + 0.000*\"oxcontin\" + 0.000*\"thingrecently\" + 0.000*\"emotionalsensitive\" + 0.000*\"metform\" + 0.000*\"relievedtrust\" + 0.000*\"herpicin\" + 0.000*\"directs\" + 0.000*\"preventitive\" + 0.000*\"numberseverything\" + 0.000*\"lifestyleinduced\" + 0.000*\"forresterallergan\" + 0.000*\"forrester\" + 0.000*\"freaken\" + 0.000*\"arrrg\" + 0.000*\"pressuring\" + 0.000*\"showerexercise\" + 0.000*\"idealy\" + 0.000*\"stubbornly\" + 0.000*\"columbus\"'), (118, '0.000*\"smacked\" + 0.000*\"oxcontin\" + 0.000*\"thingrecently\" + 0.000*\"emotionalsensitive\" + 0.000*\"metform\" + 0.000*\"relievedtrust\" + 0.000*\"herpicin\" + 0.000*\"directs\" + 0.000*\"preventitive\" + 0.000*\"numberseverything\" + 0.000*\"lifestyleinduced\" + 0.000*\"forresterallergan\" + 0.000*\"forrester\" + 0.000*\"freaken\" + 0.000*\"arrrg\" + 0.000*\"pressuring\" + 0.000*\"showerexercise\" + 0.000*\"idealy\" + 0.000*\"stubbornly\" + 0.000*\"columbus\"'), (230, '0.000*\"smacked\" + 0.000*\"oxcontin\" + 0.000*\"thingrecently\" + 0.000*\"emotionalsensitive\" + 0.000*\"metform\" + 0.000*\"relievedtrust\" + 0.000*\"herpicin\" + 0.000*\"directs\" + 0.000*\"preventitive\" + 0.000*\"numberseverything\" + 0.000*\"lifestyleinduced\" + 0.000*\"forresterallergan\" + 0.000*\"forrester\" + 0.000*\"freaken\" + 0.000*\"arrrg\" + 0.000*\"pressuring\" + 0.000*\"showerexercise\" + 0.000*\"idealy\" + 0.000*\"stubbornly\" + 0.000*\"columbus\"'), (263, '0.000*\"smacked\" + 0.000*\"oxcontin\" + 0.000*\"thingrecently\" + 0.000*\"emotionalsensitive\" + 0.000*\"metform\" + 0.000*\"relievedtrust\" + 0.000*\"herpicin\" + 0.000*\"directs\" + 0.000*\"preventitive\" + 0.000*\"numberseverything\" + 0.000*\"lifestyleinduced\" + 0.000*\"forresterallergan\" + 0.000*\"forrester\" + 0.000*\"freaken\" + 0.000*\"arrrg\" + 0.000*\"pressuring\" + 0.000*\"showerexercise\" + 0.000*\"idealy\" + 0.000*\"stubbornly\" + 0.000*\"columbus\"'), (202, '0.000*\"smacked\" + 0.000*\"oxcontin\" + 0.000*\"thingrecently\" + 0.000*\"emotionalsensitive\" + 0.000*\"metform\" + 0.000*\"relievedtrust\" + 0.000*\"herpicin\" + 0.000*\"directs\" + 0.000*\"preventitive\" + 0.000*\"numberseverything\" + 0.000*\"lifestyleinduced\" + 0.000*\"forresterallergan\" + 0.000*\"forrester\" + 0.000*\"freaken\" + 0.000*\"arrrg\" + 0.000*\"pressuring\" + 0.000*\"showerexercise\" + 0.000*\"idealy\" + 0.000*\"stubbornly\" + 0.000*\"columbus\"'), (115, '0.000*\"smacked\" + 0.000*\"oxcontin\" + 0.000*\"thingrecently\" + 0.000*\"emotionalsensitive\" + 0.000*\"metform\" + 0.000*\"relievedtrust\" + 0.000*\"herpicin\" + 0.000*\"directs\" + 0.000*\"preventitive\" + 0.000*\"numberseverything\" + 0.000*\"lifestyleinduced\" + 0.000*\"forresterallergan\" + 0.000*\"forrester\" + 0.000*\"freaken\" + 0.000*\"arrrg\" + 0.000*\"pressuring\" + 0.000*\"showerexercise\" + 0.000*\"idealy\" + 0.000*\"stubbornly\" + 0.000*\"columbus\"')]\n"
     ]
    }
   ],
   "source": [
    "# printing the top 10 topics and top 20 words from each topic for each model\n",
    "lsa_bow_model = LsiModel(bow_corpus, num_topics=300, id2word=vocabulary)\n",
    "lsa_tfidf_model = lsa_models[5]\n",
    "print('LSA bow model: ', lsa_bow_model.print_topics(10, 20))\n",
    "print('LSA tf-idf model: ', lsa_tfidf_model.print_topics(10, 20))\n",
    "print('LDA bow model: ', lda_bow_model.print_topics(10, 20))\n",
    "print('LDA tf-idf model: ', lda_tfidf_model.print_topics(10, 20))"
   ]
  },
  {
   "cell_type": "code",
   "execution_count": 8,
   "id": "3e4f6ae5",
   "metadata": {},
   "outputs": [
    {
     "name": "stdout",
     "output_type": "stream",
     "text": [
      "Bag of words log likelihood:  -13.958182304409657\n",
      "Tf-Idf log likelihood:  -600.2839939040567\n"
     ]
    }
   ],
   "source": [
    "lda_bow_likelihood = lda_bow_model.log_perplexity(bow_corpus)\n",
    "lda_tfidf_likelihood = lda_tfidf_model.log_perplexity(tfidf_corpus)\n",
    "print('Bag of words log likelihood: ', lda_bow_likelihood)\n",
    "print('Tf-Idf log likelihood: ', lda_tfidf_likelihood)"
   ]
  },
  {
   "cell_type": "code",
   "execution_count": null,
   "id": "a37e1a9d",
   "metadata": {},
   "outputs": [],
   "source": []
  },
  {
   "cell_type": "code",
   "execution_count": null,
   "id": "7cdbef59",
   "metadata": {},
   "outputs": [],
   "source": []
  },
  {
   "cell_type": "code",
   "execution_count": null,
   "id": "08b6f004",
   "metadata": {},
   "outputs": [],
   "source": []
  }
 ],
 "metadata": {
  "kernelspec": {
   "display_name": "Python 3 (ipykernel)",
   "language": "python",
   "name": "python3"
  },
  "language_info": {
   "codemirror_mode": {
    "name": "ipython",
    "version": 3
   },
   "file_extension": ".py",
   "mimetype": "text/x-python",
   "name": "python",
   "nbconvert_exporter": "python",
   "pygments_lexer": "ipython3",
   "version": "3.9.13"
  }
 },
 "nbformat": 4,
 "nbformat_minor": 5
}
